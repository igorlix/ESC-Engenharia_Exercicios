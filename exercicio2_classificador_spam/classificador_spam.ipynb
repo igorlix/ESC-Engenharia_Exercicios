{
 "cells": [
  {
   "cell_type": "markdown",
   "metadata": {},
   "source": [
    "# Classificador de Spam usando Machine Learning\n",
    "\n",
    "Este notebook implementa um modelo de classificação de mensagens SMS como spam ou não spam.\n",
    "\n",
    "**Etapas:**\n",
    "1. Carregamento dos dados \n",
    "2. Análise exploratória \n",
    "3. Pré-processamento \n",
    "4. Vetorização que transforma texto em dados numéricos\n",
    "5. Treinamento do modelo com dados numéricos\n",
    "6. Avaliação e testes"
   ]
  },
  {
   "cell_type": "code",
   "execution_count": 64,
   "metadata": {},
   "outputs": [
    {
     "name": "stderr",
     "output_type": "stream",
     "text": [
      "[nltk_data] Downloading package stopwords to\n",
      "[nltk_data]     C:\\Users\\igorl\\AppData\\Roaming\\nltk_data...\n",
      "[nltk_data]   Package stopwords is already up-to-date!\n"
     ]
    }
   ],
   "source": [
    "import pandas as pd\n",
    "import numpy as np\n",
    "import matplotlib.pyplot as plt\n",
    "import seaborn as sns\n",
    "from sklearn.model_selection import train_test_split\n",
    "from sklearn.feature_extraction.text import TfidfVectorizer\n",
    "from sklearn.naive_bayes import MultinomialNB\n",
    "from sklearn.metrics import classification_report, confusion_matrix, accuracy_score, precision_score, recall_score, f1_score\n",
    "import re\n",
    "import nltk\n",
    "from nltk.corpus import stopwords\n",
    "from nltk.stem import PorterStemmer\n",
    "from deep_translator import GoogleTranslator\n",
    "\n",
    "nltk.download('stopwords')\n",
    "\n",
    "sns.set_style('whitegrid')"
   ]
  },
  {
   "cell_type": "markdown",
   "metadata": {},
   "source": [
    "## 1. Carregamento dos Dados\n",
    "\n",
    "Nesta etapa utilizo **dados textuais** (mensagens SMS em formato de string). O objetivo é carregar o dataset e preparar as colunas para análise."
   ]
  },
  {
   "cell_type": "code",
   "execution_count": 65,
   "metadata": {},
   "outputs": [
    {
     "name": "stdout",
     "output_type": "stream",
     "text": [
      "Total de mensagens: 5572\n"
     ]
    },
    {
     "data": {
      "text/html": [
       "<div>\n",
       "<style scoped>\n",
       "    .dataframe tbody tr th:only-of-type {\n",
       "        vertical-align: middle;\n",
       "    }\n",
       "\n",
       "    .dataframe tbody tr th {\n",
       "        vertical-align: top;\n",
       "    }\n",
       "\n",
       "    .dataframe thead th {\n",
       "        text-align: right;\n",
       "    }\n",
       "</style>\n",
       "<table border=\"1\" class=\"dataframe\">\n",
       "  <thead>\n",
       "    <tr style=\"text-align: right;\">\n",
       "      <th></th>\n",
       "      <th>categoria</th>\n",
       "      <th>mensagem</th>\n",
       "    </tr>\n",
       "  </thead>\n",
       "  <tbody>\n",
       "    <tr>\n",
       "      <th>0</th>\n",
       "      <td>ham</td>\n",
       "      <td>Go until jurong point, crazy.. Available only ...</td>\n",
       "    </tr>\n",
       "    <tr>\n",
       "      <th>1</th>\n",
       "      <td>ham</td>\n",
       "      <td>Ok lar... Joking wif u oni...</td>\n",
       "    </tr>\n",
       "    <tr>\n",
       "      <th>2</th>\n",
       "      <td>spam</td>\n",
       "      <td>Free entry in 2 a wkly comp to win FA Cup fina...</td>\n",
       "    </tr>\n",
       "    <tr>\n",
       "      <th>3</th>\n",
       "      <td>ham</td>\n",
       "      <td>U dun say so early hor... U c already then say...</td>\n",
       "    </tr>\n",
       "    <tr>\n",
       "      <th>4</th>\n",
       "      <td>ham</td>\n",
       "      <td>Nah I don't think he goes to usf, he lives aro...</td>\n",
       "    </tr>\n",
       "    <tr>\n",
       "      <th>5</th>\n",
       "      <td>spam</td>\n",
       "      <td>FreeMsg Hey there darling it's been 3 week's n...</td>\n",
       "    </tr>\n",
       "    <tr>\n",
       "      <th>6</th>\n",
       "      <td>ham</td>\n",
       "      <td>Even my brother is not like to speak with me. ...</td>\n",
       "    </tr>\n",
       "    <tr>\n",
       "      <th>7</th>\n",
       "      <td>ham</td>\n",
       "      <td>As per your request 'Melle Melle (Oru Minnamin...</td>\n",
       "    </tr>\n",
       "    <tr>\n",
       "      <th>8</th>\n",
       "      <td>spam</td>\n",
       "      <td>WINNER!! As a valued network customer you have...</td>\n",
       "    </tr>\n",
       "    <tr>\n",
       "      <th>9</th>\n",
       "      <td>spam</td>\n",
       "      <td>Had your mobile 11 months or more? U R entitle...</td>\n",
       "    </tr>\n",
       "  </tbody>\n",
       "</table>\n",
       "</div>"
      ],
      "text/plain": [
       "  categoria                                           mensagem\n",
       "0       ham  Go until jurong point, crazy.. Available only ...\n",
       "1       ham                      Ok lar... Joking wif u oni...\n",
       "2      spam  Free entry in 2 a wkly comp to win FA Cup fina...\n",
       "3       ham  U dun say so early hor... U c already then say...\n",
       "4       ham  Nah I don't think he goes to usf, he lives aro...\n",
       "5      spam  FreeMsg Hey there darling it's been 3 week's n...\n",
       "6       ham  Even my brother is not like to speak with me. ...\n",
       "7       ham  As per your request 'Melle Melle (Oru Minnamin...\n",
       "8      spam  WINNER!! As a valued network customer you have...\n",
       "9      spam  Had your mobile 11 months or more? U R entitle..."
      ]
     },
     "execution_count": 65,
     "metadata": {},
     "output_type": "execute_result"
    }
   ],
   "source": [
    "df = pd.read_csv('spam.csv', encoding='latin-1')\n",
    "\n",
    "df = df[['v1', 'v2']]\n",
    "df.columns = ['categoria', 'mensagem']\n",
    "\n",
    "print(f'Total de mensagens: {len(df)}')\n",
    "df.head(10)"
   ]
  },
  {
   "cell_type": "markdown",
   "metadata": {},
   "source": [
    "## 2. Análise Exploratória\n",
    "\n",
    "- Distribuição de classes (spam vs não spam)\n",
    "- Tamanho médio das mensagens\n",
    "- Padrões visuais nos dados"
   ]
  },
  {
   "cell_type": "code",
   "execution_count": 66,
   "metadata": {},
   "outputs": [
    {
     "name": "stdout",
     "output_type": "stream",
     "text": [
      "\n",
      "Distribuição das categorias:\n",
      "categoria\n",
      "ham     4825\n",
      "spam     747\n",
      "Name: count, dtype: int64\n",
      "\n",
      "Percentual de spam: 13.41%\n",
      "Percentual de ham: 86.59%\n"
     ]
    }
   ],
   "source": [
    "print('\\nDistribuição das categorias:')\n",
    "print(df['categoria'].value_counts())\n",
    "print(f'\\nPercentual de spam: {(df[\"categoria\"] == \"spam\").sum() / len(df) * 100:.2f}%')\n",
    "print(f'Percentual de ham: {(df[\"categoria\"] == \"ham\").sum() / len(df) * 100:.2f}%')"
   ]
  },
  {
   "cell_type": "code",
   "execution_count": 67,
   "metadata": {},
   "outputs": [
    {
     "data": {
      "image/png": "[encoded data removed]",
      "text/plain": [
       "<Figure size 1400x500 with 2 Axes>"
      ]
     },
     "metadata": {},
     "output_type": "display_data"
    }
   ],
   "source": [
    "fig, axes = plt.subplots(1, 2, figsize=(14, 5))\n",
    "\n",
    "df['categoria'].value_counts().plot(kind='bar', ax=axes[0], color=['#2ecc71', '#e74c3c'])\n",
    "axes[0].set_title('Quantidade de Mensagens por Categoria')\n",
    "axes[0].set_xlabel('Categoria')\n",
    "axes[0].set_ylabel('Quantidade')\n",
    "axes[0].set_xticklabels(['Não Spam', 'Spam'], rotation=0)\n",
    "\n",
    "df['tamanho'] = df['mensagem'].apply(len)\n",
    "df.boxplot(column='tamanho', by='categoria', ax=axes[1])\n",
    "axes[1].set_title('Tamanho das Mensagens por Categoria')\n",
    "axes[1].set_xlabel('Categoria')\n",
    "axes[1].set_ylabel('Número de caracteres')\n",
    "\n",
    "plt.suptitle('')\n",
    "plt.tight_layout()\n",
    "plt.show()"
   ]
  },
  {
   "cell_type": "code",
   "execution_count": 68,
   "metadata": {},
   "outputs": [
    {
     "name": "stdout",
     "output_type": "stream",
     "text": [
      "\n",
      "Estatísticas do tamanho das mensagens:\n",
      "            count        mean        std   min    25%    50%    75%    max\n",
      "categoria                                                                 \n",
      "ham        4825.0   71.023627  58.016023   2.0   33.0   52.0   92.0  910.0\n",
      "spam        747.0  138.866131  29.183082  13.0  132.5  149.0  157.0  224.0\n"
     ]
    }
   ],
   "source": [
    "print('\\nEstatísticas do tamanho das mensagens:')\n",
    "print(df.groupby('categoria')['tamanho'].describe())"
   ]
  },
  {
   "cell_type": "markdown",
   "metadata": {},
   "source": [
    "## 3. Pré-processamento de Texto\n",
    "\n",
    "Aqui ocorre a **primeira tokenização** do texto.\n",
    "\n",
    "**Processo:**\n",
    "1. `lower()`: Converte para minúsculas\n",
    "2. `re.sub()`: Remove pontuação e caracteres especiais\n",
    "3. `split()`: divide texto em lista de palavras\n",
    "4. Remoção de stopwords (palavras comuns como \"the\", \"is\", \"a\")\n",
    "5. Stemming: reduz palavras à raiz (ex: \"running\" → \"run\")"
   ]
  },
  {
   "cell_type": "code",
   "execution_count": 69,
   "metadata": {},
   "outputs": [
    {
     "name": "stdout",
     "output_type": "stream",
     "text": [
      "Exemplo de pré-processamento:\n",
      "\n",
      "Original: U dun say so early hor... U c already then say...\n",
      "\n",
      "Processada: u dun say earli hor u c alreadi say\n"
     ]
    }
   ],
   "source": [
    "stemmer = PorterStemmer()\n",
    "stop_words = set(stopwords.words('english'))\n",
    "\n",
    "def preprocessar_texto(texto):\n",
    "    texto = texto.lower()\n",
    "    texto = re.sub(r'[^a-zA-Z\\s]', '', texto)\n",
    "    palavras = texto.split()\n",
    "    palavras = [stemmer.stem(palavra) for palavra in palavras if palavra not in stop_words]\n",
    "    return ' '.join(palavras)\n",
    "\n",
    "df['mensagem_processada'] = df['mensagem'].apply(preprocessar_texto)\n",
    "\n",
    "print('Exemplo de pré-processamento:')\n",
    "print(f'\\nOriginal: {df.iloc[3][\"mensagem\"]}')\n",
    "print(f'\\nProcessada: {df.iloc[3][\"mensagem_processada\"]}')"
   ]
  },
  {
   "cell_type": "markdown",
   "metadata": {},
   "source": [
    "## 4. Preparação dos Dados para Treinamento\n",
    "\n",
    "### Transformação de Texto em Dados Numéricos\n",
    "\n",
    "\n",
    "\n",
    "**TfidfVectorizer**:\n",
    "1. Cria um vocabulário com as 3000 palavras mais importantes\n",
    "2. Transforma cada mensagem em um vetor numérico de 3000 dimensões\n",
    "3. Calcula o peso TF-IDF para cada palavra\n",
    "\n",
    "**TF-IDF = Term Frequency × Inverse Document Frequency**\n",
    "- Palavras raras mas frequentes na mensagem ganham peso alto\n",
    "- Palavras comuns em todas mensagens ganham peso baixo\n",
    "\n",
    "**Exemplo:**\n",
    "```\n",
    "Texto: \"win free prize now\"\n",
    "Vetor: [0, 0, 0.85, 0, 0.92, 0, 0.73, 0, ...]\n",
    "              ↑        ↑        ↑\n",
    "            \"win\"   \"free\"  \"prize\"\n",
    "```\n"
   ]
  },
  {
   "cell_type": "code",
   "execution_count": 70,
   "metadata": {},
   "outputs": [
    {
     "name": "stdout",
     "output_type": "stream",
     "text": [
      "Tamanho do conjunto de treino: 4457\n",
      "Tamanho do conjunto de teste: 1115\n",
      "\n",
      "Distribuição no treino:\n",
      "categoria\n",
      "0    3859\n",
      "1     598\n",
      "Name: count, dtype: int64\n",
      "\n",
      "Distribuição no teste:\n",
      "categoria\n",
      "0    966\n",
      "1    149\n",
      "Name: count, dtype: int64\n"
     ]
    }
   ],
   "source": [
    "X = df['mensagem_processada']\n",
    "y = df['categoria'].map({'ham': 0, 'spam': 1})\n",
    "\n",
    "X_treino, X_teste, y_treino, y_teste = train_test_split(X, y, test_size=0.2, random_state=42, stratify=y)\n",
    "\n",
    "print(f'Tamanho do conjunto de treino: {len(X_treino)}')\n",
    "print(f'Tamanho do conjunto de teste: {len(X_teste)}')\n",
    "print(f'\\nDistribuição no treino:')\n",
    "print(y_treino.value_counts())\n",
    "print(f'\\nDistribuição no teste:')\n",
    "print(y_teste.value_counts())"
   ]
  },
  {
   "cell_type": "code",
   "execution_count": 71,
   "metadata": {},
   "outputs": [
    {
     "name": "stdout",
     "output_type": "stream",
     "text": [
      "Shape da matriz TF-IDF de treino: (4457, 3000)\n",
      "Shape da matriz TF-IDF de teste: (1115, 3000)\n"
     ]
    }
   ],
   "source": [
    "vetorizador = TfidfVectorizer(max_features=3000)\n",
    "\n",
    "X_treino_tfidf = vetorizador.fit_transform(X_treino)\n",
    "X_teste_tfidf = vetorizador.transform(X_teste)\n",
    "\n",
    "print(f'Shape da matriz TF-IDF de treino: {X_treino_tfidf.shape}')\n",
    "print(f'Shape da matriz TF-IDF de teste: {X_teste_tfidf.shape}')"
   ]
  },
  {
   "cell_type": "markdown",
   "metadata": {},
   "source": [
    "## 5. Treinamento do Modelo\n",
    "\n",
    "O modelo Naive Bayes é treinado com os **dados numéricos** (vetores TF-IDF).\n",
    "\n",
    "Ele aprende a probabilidade de cada palavra estar associada a spam ou não spam baseado nos padrões numéricos dos dados de treino."
   ]
  },
  {
   "cell_type": "code",
   "execution_count": 72,
   "metadata": {},
   "outputs": [
    {
     "name": "stdout",
     "output_type": "stream",
     "text": [
      "Modelo treinado com sucesso!\n"
     ]
    }
   ],
   "source": [
    "modelo = MultinomialNB()\n",
    "modelo.fit(X_treino_tfidf, y_treino)\n",
    "\n",
    "print('Modelo treinado com sucesso!')"
   ]
  },
  {
   "cell_type": "markdown",
   "metadata": {},
   "source": [
    "## 6. Avaliação do Modelo\n",
    "\n",
    "Aqui testo o modelo com **dados numéricos** nunca vistos (conjunto de teste).\n",
    "\n",
    "**Métricas:**\n",
    "- **Acurácia**: % de acertos totais\n",
    "- **Precisão**: dos que prevemos como spam, quantos realmente eram spam\n",
    "- **Recall**: de todos os spams reais, quantos conseguimos detectar\n",
    "- **F1-Score**: média harmônica entre as duas últimas métricas"
   ]
  },
  {
   "cell_type": "code",
   "execution_count": 73,
   "metadata": {},
   "outputs": [
    {
     "name": "stdout",
     "output_type": "stream",
     "text": [
      "Desempenho no Treino\n",
      "Acurácia: 0.9841\n",
      "Precisão: 0.9981\n",
      "Recall: 0.8829\n",
      "F1-Score: 0.9370\n",
      "\n",
      "Desempenho no Teste\n",
      "Acurácia: 0.9695\n",
      "Precisão: 0.9915\n",
      "Recall: 0.7785\n",
      "F1-Score: 0.8722\n"
     ]
    }
   ],
   "source": [
    "y_pred_treino = modelo.predict(X_treino_tfidf)\n",
    "y_pred_teste = modelo.predict(X_teste_tfidf)\n",
    "\n",
    "print('Desempenho no Treino')\n",
    "print(f'Acurácia: {accuracy_score(y_treino, y_pred_treino):.4f}')\n",
    "print(f'Precisão: {precision_score(y_treino, y_pred_treino):.4f}')\n",
    "print(f'Recall: {recall_score(y_treino, y_pred_treino):.4f}')\n",
    "print(f'F1-Score: {f1_score(y_treino, y_pred_treino):.4f}')\n",
    "\n",
    "print('\\nDesempenho no Teste')\n",
    "print(f'Acurácia: {accuracy_score(y_teste, y_pred_teste):.4f}')\n",
    "print(f'Precisão: {precision_score(y_teste, y_pred_teste):.4f}')\n",
    "print(f'Recall: {recall_score(y_teste, y_pred_teste):.4f}')\n",
    "print(f'F1-Score: {f1_score(y_teste, y_pred_teste):.4f}')"
   ]
  },
  {
   "cell_type": "code",
   "execution_count": 74,
   "metadata": {},
   "outputs": [
    {
     "name": "stdout",
     "output_type": "stream",
     "text": [
      "\n",
      "Relatório de Classificação:\n",
      "              precision    recall  f1-score   support\n",
      "\n",
      "    Não Spam       0.97      1.00      0.98       966\n",
      "        Spam       0.99      0.78      0.87       149\n",
      "\n",
      "    accuracy                           0.97      1115\n",
      "   macro avg       0.98      0.89      0.93      1115\n",
      "weighted avg       0.97      0.97      0.97      1115\n",
      "\n"
     ]
    }
   ],
   "source": [
    "print('\\nRelatório de Classificação:')\n",
    "print(classification_report(y_teste, y_pred_teste, target_names=['Não Spam', 'Spam']))"
   ]
  },
  {
   "cell_type": "code",
   "execution_count": 75,
   "metadata": {},
   "outputs": [
    {
     "data": {
      "image/png": "[encoded data removed]",
      "text/plain": [
       "<Figure size 800x600 with 2 Axes>"
      ]
     },
     "metadata": {},
     "output_type": "display_data"
    },
    {
     "name": "stdout",
     "output_type": "stream",
     "text": [
      "\n",
      "Verdadeiros Negativos: 965\n",
      "Falsos Positivos: 1\n",
      "Falsos Negativos: 33\n",
      "Verdadeiros Positivos: 116\n"
     ]
    }
   ],
   "source": [
    "matriz_confusao = confusion_matrix(y_teste, y_pred_teste)\n",
    "\n",
    "plt.figure(figsize=(8, 6))\n",
    "sns.heatmap(matriz_confusao, annot=True, fmt='d', cmap='Blues', \n",
    "            xticklabels=['Não Spam', 'Spam'], \n",
    "            yticklabels=['Não Spam', 'Spam'])\n",
    "plt.title('Matriz de Confusão')\n",
    "plt.ylabel('Valor Real')\n",
    "plt.xlabel('Valor Previsto')\n",
    "plt.show()\n",
    "\n",
    "print(f'\\nVerdadeiros Negativos: {matriz_confusao[0, 0]}')\n",
    "print(f'Falsos Positivos: {matriz_confusao[0, 1]}')\n",
    "print(f'Falsos Negativos: {matriz_confusao[1, 0]}')\n",
    "print(f'Verdadeiros Positivos: {matriz_confusao[1, 1]}')"
   ]
  },
  {
   "cell_type": "markdown",
   "metadata": {},
   "source": [
    "## 7. Análise das Palavras Mais Importantes"
   ]
  },
  {
   "cell_type": "code",
   "execution_count": 76,
   "metadata": {},
   "outputs": [
    {
     "data": {
      "image/png": "[encoded data removed]",
      "text/plain": [
       "<Figure size 1600x600 with 2 Axes>"
      ]
     },
     "metadata": {},
     "output_type": "display_data"
    }
   ],
   "source": [
    "feature_names = vetorizador.get_feature_names_out()\n",
    "log_prob_spam = modelo.feature_log_prob_[1]\n",
    "log_prob_ham = modelo.feature_log_prob_[0]\n",
    "\n",
    "indices_spam = np.argsort(log_prob_spam)[-10:]\n",
    "indices_ham = np.argsort(log_prob_ham)[-10:]\n",
    "\n",
    "palavras_spam = [feature_names[i] for i in indices_spam]\n",
    "palavras_ham = [feature_names[i] for i in indices_ham]\n",
    "\n",
    "fig, axes = plt.subplots(1, 2, figsize=(16, 6))\n",
    "\n",
    "axes[0].barh(range(len(palavras_spam)), [log_prob_spam[i] for i in indices_spam], color='#e74c3c')\n",
    "axes[0].set_yticks(range(len(palavras_spam)))\n",
    "axes[0].set_yticklabels(palavras_spam)\n",
    "axes[0].set_xlabel('Log Probabilidade')\n",
    "axes[0].set_title('Top 10 Palavras Associadas a SPAM')\n",
    "\n",
    "axes[1].barh(range(len(palavras_ham)), [log_prob_ham[i] for i in indices_ham], color='#2ecc71')\n",
    "axes[1].set_yticks(range(len(palavras_ham)))\n",
    "axes[1].set_yticklabels(palavras_ham)\n",
    "axes[1].set_xlabel('Log Probabilidade')\n",
    "axes[1].set_title('Top 10 Palavras Associadas a NÃO SPAM')\n",
    "\n",
    "plt.tight_layout()\n",
    "plt.show()"
   ]
  },
  {
   "cell_type": "markdown",
   "metadata": {},
   "source": [
    "## 8. Função para Classificar Novas Mensagens\n",
    "\n",
    "Esta função recebe **texto** e executa todo o pipeline:\n",
    "1. Pré-processamento \n",
    "2. Vetorização TF-IDF \n",
    "3. Predição usando o modelo treinado\n",
    "4. Retorna classificação e probabilidades"
   ]
  },
  {
   "cell_type": "code",
   "execution_count": 77,
   "metadata": {},
   "outputs": [],
   "source": [
    "def classificar_mensagem(mensagem):\n",
    "    mensagem_processada = preprocessar_texto(mensagem)\n",
    "    mensagem_tfidf = vetorizador.transform([mensagem_processada])\n",
    "    predicao = modelo.predict(mensagem_tfidf)[0]\n",
    "    probabilidade = modelo.predict_proba(mensagem_tfidf)[0]\n",
    "    \n",
    "    resultado = 'SPAM' if predicao == 1 else 'NÃO SPAM'\n",
    "    confianca = probabilidade[predicao] * 100\n",
    "    \n",
    "    print(f'Mensagem: \"{mensagem}\"')\n",
    "    print(f'Classificação: {resultado}')\n",
    "    print(f'Confiança: {confianca:.2f}%')\n",
    "    print(f'Probabilidades -> Não Spam: {probabilidade[0]:.4f} | Spam: {probabilidade[1]:.4f}')\n",
    "    print('-' * 80)\n",
    "    \n",
    "    return resultado, confianca"
   ]
  },
  {
   "cell_type": "markdown",
   "metadata": {},
   "source": [
    "## 9. Testando o Classificador com Novas Mensagens"
   ]
  },
  {
   "cell_type": "code",
   "execution_count": 78,
   "metadata": {},
   "outputs": [
    {
     "name": "stdout",
     "output_type": "stream",
     "text": [
      "\n",
      "Testando o Classificador\n",
      "\n",
      "Mensagem: \"Congratulations! You've won a free ticket to the Bahamas. Call now!\"\n",
      "Classificação: SPAM\n",
      "Confiança: 56.31%\n",
      "Probabilidades -> Não Spam: 0.4369 | Spam: 0.5631\n",
      "--------------------------------------------------------------------------------\n",
      "Mensagem: \"Hey, are we still meeting for lunch tomorrow?\"\n",
      "Classificação: NÃO SPAM\n",
      "Confiança: 99.75%\n",
      "Probabilidades -> Não Spam: 0.9975 | Spam: 0.0025\n",
      "--------------------------------------------------------------------------------\n",
      "Mensagem: \"URGENT! Your account will be closed. Click here immediately to verify.\"\n",
      "Classificação: SPAM\n",
      "Confiança: 71.20%\n",
      "Probabilidades -> Não Spam: 0.2880 | Spam: 0.7120\n",
      "--------------------------------------------------------------------------------\n",
      "Mensagem: \"Can you pick up some milk on your way home?\"\n",
      "Classificação: NÃO SPAM\n",
      "Confiança: 98.91%\n",
      "Probabilidades -> Não Spam: 0.9891 | Spam: 0.0109\n",
      "--------------------------------------------------------------------------------\n",
      "Mensagem: \"You have been selected for a special offer. Text WIN to 12345.\"\n",
      "Classificação: SPAM\n",
      "Confiança: 79.85%\n",
      "Probabilidades -> Não Spam: 0.2015 | Spam: 0.7985\n",
      "--------------------------------------------------------------------------------\n",
      "Mensagem: \"Thanks for your help yesterday, really appreciate it!\"\n",
      "Classificação: NÃO SPAM\n",
      "Confiança: 97.52%\n",
      "Probabilidades -> Não Spam: 0.9752 | Spam: 0.0248\n",
      "--------------------------------------------------------------------------------\n"
     ]
    }
   ],
   "source": [
    "mensagens_teste = [\n",
    "    \"Congratulations! You've won a free ticket to the Bahamas. Call now!\",\n",
    "    \"Hey, are we still meeting for lunch tomorrow?\",\n",
    "    \"URGENT! Your account will be closed. Click here immediately to verify.\",\n",
    "    \"Can you pick up some milk on your way home?\",\n",
    "    \"You have been selected for a special offer. Text WIN to 12345.\",\n",
    "    \"Thanks for your help yesterday, really appreciate it!\"\n",
    "]\n",
    "\n",
    "print('\\nTestando o Classificador')\n",
    "print()\n",
    "for msg in mensagens_teste:\n",
    "    classificar_mensagem(msg)"
   ]
  },
  {
   "cell_type": "markdown",
   "metadata": {},
   "source": [
    "## 10. Testando com Mensagens em Português\n",
    "\n",
    "Como o modelo foi treinado com mensagens em inglês, precisamos traduzir mensagens em português antes de classificar.\n",
    "\n",
    "**Pipeline para português:**\n",
    "1. Mensagem em português (**texto**)\n",
    "2. Tradução para inglês usando Google Translate (**texto**)\n",
    "3. Pré-processamento (**texto tokenizado**)\n",
    "4. Vetorização TF-IDF (**dados numéricos**)\n",
    "5. Classificação pelo modelo"
   ]
  },
  {
   "cell_type": "code",
   "execution_count": 79,
   "metadata": {},
   "outputs": [],
   "source": [
    "def traduzir_mensagem(texto, destino='en'):\n",
    "    try:\n",
    "        resultado = GoogleTranslator(source='auto', target=destino).translate(texto)\n",
    "        return resultado\n",
    "    except Exception as e:\n",
    "        print(f'Erro na tradução: {e}')\n",
    "        return texto"
   ]
  },
  {
   "cell_type": "code",
   "execution_count": 80,
   "metadata": {},
   "outputs": [
    {
     "name": "stdout",
     "output_type": "stream",
     "text": [
      "Classificando Mensagens em Português\n",
      "\n",
      "Mensagem original (PT): \"Parabéns! Você ganhou um prêmio de R$ 10.000. Ligue agora para resgatar!\"\n",
      "Traduzida (EN): \"Congratulations! You have won a prize of R$10,000. Call now to redeem!\"\n",
      "\n",
      "Mensagem: \"Congratulations! You have won a prize of R$10,000. Call now to redeem!\"\n",
      "Classificação: SPAM\n",
      "Confiança: 88.64%\n",
      "Probabilidades -> Não Spam: 0.1136 | Spam: 0.8864\n",
      "--------------------------------------------------------------------------------\n",
      "\n",
      "Mensagem original (PT): \"Oi, vamos nos encontrar para almoçar amanhã?\"\n",
      "Traduzida (EN): \"Hi, shall we meet for lunch tomorrow?\"\n",
      "\n",
      "Mensagem: \"Hi, shall we meet for lunch tomorrow?\"\n",
      "Classificação: NÃO SPAM\n",
      "Confiança: 99.57%\n",
      "Probabilidades -> Não Spam: 0.9957 | Spam: 0.0043\n",
      "--------------------------------------------------------------------------------\n",
      "\n",
      "Mensagem original (PT): \"URGENTE! Sua conta será bloqueada. Clique aqui imediatamente para verificar.\"\n",
      "Traduzida (EN): \"URGENT! Your account will be blocked. Click here immediately to check.\"\n",
      "\n",
      "Mensagem: \"URGENT! Your account will be blocked. Click here immediately to check.\"\n",
      "Classificação: SPAM\n",
      "Confiança: 68.64%\n",
      "Probabilidades -> Não Spam: 0.3136 | Spam: 0.6864\n",
      "--------------------------------------------------------------------------------\n",
      "\n",
      "Mensagem original (PT): \"Pode comprar leite quando estiver voltando para casa?\"\n",
      "Traduzida (EN): \"Can you buy milk on your way home?\"\n",
      "\n",
      "Mensagem: \"Can you buy milk on your way home?\"\n",
      "Classificação: NÃO SPAM\n",
      "Confiança: 99.00%\n",
      "Probabilidades -> Não Spam: 0.9900 | Spam: 0.0100\n",
      "--------------------------------------------------------------------------------\n",
      "\n",
      "Mensagem original (PT): \"Você foi selecionado para uma oferta especial. Responda SIM para 40404.\"\n",
      "Traduzida (EN): \"You have been selected for a special offer. Answer YES to 40404.\"\n",
      "\n",
      "Mensagem: \"You have been selected for a special offer. Answer YES to 40404.\"\n",
      "Classificação: NÃO SPAM\n",
      "Confiança: 51.25%\n",
      "Probabilidades -> Não Spam: 0.5125 | Spam: 0.4875\n",
      "--------------------------------------------------------------------------------\n",
      "\n",
      "Mensagem original (PT): \"Obrigado pela ajuda ontem, agradeço muito!\"\n",
      "Traduzida (EN): \"Thanks for your help yesterday, I really appreciate it!\"\n",
      "\n",
      "Mensagem: \"Thanks for your help yesterday, I really appreciate it!\"\n",
      "Classificação: NÃO SPAM\n",
      "Confiança: 97.52%\n",
      "Probabilidades -> Não Spam: 0.9752 | Spam: 0.0248\n",
      "--------------------------------------------------------------------------------\n",
      "\n"
     ]
    }
   ],
   "source": [
    "mensagens_teste_pt = [\n",
    "    \"Parabéns! Você ganhou um prêmio de R$ 10.000. Ligue agora para resgatar!\",\n",
    "    \"Oi, vamos nos encontrar para almoçar amanhã?\",\n",
    "    \"URGENTE! Sua conta será bloqueada. Clique aqui imediatamente para verificar.\",\n",
    "    \"Pode comprar leite quando estiver voltando para casa?\",\n",
    "    \"Você foi selecionado para uma oferta especial. Responda SIM para 40404.\",\n",
    "    \"Obrigado pela ajuda ontem, agradeço muito!\"\n",
    "]\n",
    "\n",
    "print('Classificando Mensagens em Português\\n')\n",
    "\n",
    "for msg_pt in mensagens_teste_pt:\n",
    "    print(f'Mensagem original (PT): \"{msg_pt}\"')\n",
    "    msg_en = traduzir_mensagem(msg_pt, destino='en')\n",
    "    print(f'Traduzida (EN): \"{msg_en}\"')\n",
    "    print()\n",
    "    classificar_mensagem(msg_en)\n",
    "    print()"
   ]
  }
 ],
 "metadata": {
  "kernelspec": {
   "display_name": "Python 3",
   "language": "python",
   "name": "python3"
  },
  "language_info": {
   "codemirror_mode": {
    "name": "ipython",
    "version": 3
   },
   "file_extension": ".py",
   "mimetype": "text/x-python",
   "name": "python",
   "nbconvert_exporter": "python",
   "pygments_lexer": "ipython3",
   "version": "3.8.0"
  }
 },
 "nbformat": 4,
 "nbformat_minor": 4
}
